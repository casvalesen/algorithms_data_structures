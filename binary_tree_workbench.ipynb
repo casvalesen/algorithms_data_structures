{
 "cells": [
  {
   "cell_type": "code",
   "execution_count": null,
   "metadata": {},
   "outputs": [],
   "source": []
  },
  {
   "cell_type": "code",
   "execution_count": 3,
   "metadata": {},
   "outputs": [],
   "source": [
    "import math \n",
    "import numpy \n"
   ]
  },
  {
   "cell_type": "code",
   "execution_count": 4,
   "metadata": {},
   "outputs": [
    {
     "data": {
      "text/plain": [
       "9.965784284662087"
      ]
     },
     "execution_count": 4,
     "metadata": {},
     "output_type": "execute_result"
    }
   ],
   "source": [
    "math.log(1000,2)"
   ]
  },
  {
   "cell_type": "code",
   "execution_count": 11,
   "metadata": {},
   "outputs": [
    {
     "data": {
      "text/plain": [
       "999.456523034854"
      ]
     },
     "execution_count": 11,
     "metadata": {},
     "output_type": "execute_result"
    }
   ],
   "source": [
    "2**9.965"
   ]
  },
  {
   "cell_type": "code",
   "execution_count": 13,
   "metadata": {},
   "outputs": [
    {
     "data": {
      "text/plain": [
       "5040"
      ]
     },
     "execution_count": 13,
     "metadata": {},
     "output_type": "execute_result"
    }
   ],
   "source": [
    "math.factorial(7)"
   ]
  },
  {
   "cell_type": "markdown",
   "metadata": {},
   "source": [
    "## Binary Search Tree\n",
    "\n",
    "Resources: \n",
    "- https://www.askpython.com/python/examples/preorder-tree-traversal\n",
    "- https://stackoverflow.com/questions/38158405/preorder-traversal-in-python-recursive-mrethod\n",
    "- https://www.youtube.com/watch?v=6oL-0TdVy28\n",
    "- https://github.com/vprusso/youtube_tutorials/blob/master/data_structures/trees/binary_trees/binary_tree_recursive_dfs_traversals.py\n",
    "\n",
    "- https://www.geeksforgeeks.org/insertion-in-a-binary-tree-in-level-order/"
   ]
  },
  {
   "cell_type": "code",
   "execution_count": 1,
   "metadata": {},
   "outputs": [
    {
     "data": {
      "text/plain": [
       "'\\n    def __str__(self):\\n        return str(self)\\n'"
      ]
     },
     "execution_count": 1,
     "metadata": {},
     "output_type": "execute_result"
    }
   ],
   "source": [
    "\n",
    "class TreeNode(object):\n",
    "\n",
    "    def __init__(self, val , left= None, right=None): \n",
    "        self.val = val\n",
    "        self.left = left\n",
    "        self.right= right\n",
    "        print(f'initialised, self.val: {self.val} , self.left {self.left} , self.right {self.right}')\n",
    "         \n",
    "    def __str__(self):\n",
    "        return str(self.val)\n",
    "\n",
    "    def __repr__(self):\n",
    "        return f\"Treenode data {self.val}\"\n",
    "\n",
    "    def preOrderTraversal(self, root,answer):\n",
    "\n",
    "        '''\n",
    "        args: \n",
    "            root, an instance of TreeNode\n",
    "\n",
    "        returns: \n",
    "           answer, list of of values of traversed tree\n",
    "\n",
    "        '''\n",
    "        answer = []\n",
    "        #Base case of recursive algo \n",
    "        if root: \n",
    "            \n",
    "            #Set state to first in root, visit the root. \n",
    "            answer.append(self.val)\n",
    "\n",
    "            #Then traverse the left subtree. Recursively\n",
    "            print(f\"traversing righ, with self.val: {self.val}\")\n",
    "            self.preOrderTraversal(self.right, answer)\n",
    "            \n",
    "            #Finally, traverse the right subtree. Recursively\n",
    "            print(f\"traversing left, with self.val: {self.val}\")\n",
    "            self.preOrderTraversal(self.left, answer)\n",
    "\n",
    "\n",
    "            print(answer)\n",
    "\n",
    "    def get_answer(self) :\n",
    "        answer = []\n",
    "        self.preOrderTraversal(self, answer)\n",
    "\n",
    "        return answer\n",
    "\n",
    "    def printTree(self):\n",
    "        print(self.val)\n",
    "\n",
    "    def insert(self, root, value):\n",
    "\n",
    "        #Base case\n",
    "        if value ==None:\n",
    "            print('Value is none, skipping')\n",
    "\n",
    "        #If the binary tree is empty, make a new node and declare it as root \n",
    "        elif root ==None: \n",
    "            print( f'root is empty,making a new node and declaring as root')\n",
    "            root = TreeNode(value)\n",
    "\n",
    "        #If a binary tree is not empty, we will insert into the tree\n",
    "\n",
    "        #If a value is less than the balue of the data in root, we \n",
    "        elif value < root.val:\n",
    "            print(f'value {value} less than self.val {root.val}, adding to left')\n",
    "            root.left = self.insert(root.left, value)\n",
    "\n",
    "        #If a new value is greater  than the value of the data in root, we add it to the right subtree\n",
    "        elif value > root.val:\n",
    "            print(f'value {value} more than self.val {root.val}, adding to right')\n",
    "            root.right = self.insert(root.right, value)\n",
    "            print(f'self.right {self.right}')\n",
    "        \n",
    "        print(f'Root is {root} at the end of insert method execution with root.left {root.left} and root.right {root.right}')\n",
    "        \n",
    "        return root \n",
    "\n",
    "def tree_from_list(list):\n",
    "    \n",
    "    root = TreeNode(list[0])\n",
    "\n",
    "    for value in list[1:]: \n",
    "        print(f'adding element {value} to tree, root is now {root}')\n",
    "        root.insert(root,value)\n",
    "        print(f'Root is {root} after insert')\n",
    "\n",
    "    return root\n",
    "\n",
    "\n",
    "\n",
    "#class BinaryTree(object):\n",
    "'''\n",
    "    def __str__(self):\n",
    "        return str(self)\n",
    "'''\n",
    "\n"
   ]
  },
  {
   "cell_type": "code",
   "execution_count": 88,
   "metadata": {},
   "outputs": [
    {
     "name": "stdout",
     "output_type": "stream",
     "text": [
      "initialised, self.val: 1 , self.left None , self.right None\n",
      "adding element None to tree, root is now 1\n",
      "Value is none, skipping\n",
      "Root is 1 at the end of insert method execution with root.left None and root.right None\n",
      "Root is 1 after insert\n",
      "adding element 2 to tree, root is now 1\n",
      "value 2 more than self.val 1, adding to right\n",
      "root is empty,making a new node and declaring as root\n",
      "initialised, self.val: 2 , self.left None , self.right None\n",
      "Root is 2 at the end of insert method execution with root.left None and root.right None\n",
      "self.right 2\n",
      "Root is 1 at the end of insert method execution with root.left None and root.right 2\n",
      "Root is 1 after insert\n",
      "adding element 3 to tree, root is now 1\n",
      "value 3 more than self.val 1, adding to right\n",
      "value 3 more than self.val 2, adding to right\n",
      "root is empty,making a new node and declaring as root\n",
      "initialised, self.val: 3 , self.left None , self.right None\n",
      "Root is 3 at the end of insert method execution with root.left None and root.right None\n",
      "self.right 2\n",
      "Root is 2 at the end of insert method execution with root.left None and root.right 3\n",
      "self.right 2\n",
      "Root is 1 at the end of insert method execution with root.left None and root.right 2\n",
      "Root is 1 after insert\n"
     ]
    }
   ],
   "source": [
    "#Populate the tree \n",
    "root = [1,None,2,3]\n",
    "\n",
    "tree =tree_from_list(root) "
   ]
  },
  {
   "cell_type": "code",
   "execution_count": 89,
   "metadata": {},
   "outputs": [
    {
     "data": {
      "text/plain": [
       "Treenode data 3"
      ]
     },
     "execution_count": 89,
     "metadata": {},
     "output_type": "execute_result"
    }
   ],
   "source": [
    "tree.right.right"
   ]
  },
  {
   "cell_type": "code",
   "execution_count": 17,
   "metadata": {},
   "outputs": [
    {
     "name": "stdout",
     "output_type": "stream",
     "text": [
      "initialised, self.val: [1, None, 2, 3] , self.left None , self.right None\n"
     ]
    },
    {
     "ename": "TypeError",
     "evalue": "preOrderTraversal() takes 2 positional arguments but 3 were given",
     "output_type": "error",
     "traceback": [
      "\u001b[0;31m---------------------------------------------------------------------------\u001b[0m",
      "\u001b[0;31mTypeError\u001b[0m                                 Traceback (most recent call last)",
      "\u001b[0;32m<ipython-input-17-d1cf399f0d67>\u001b[0m in \u001b[0;36m<module>\u001b[0;34m\u001b[0m\n\u001b[1;32m      6\u001b[0m \u001b[0;34m\u001b[0m\u001b[0m\n\u001b[1;32m      7\u001b[0m \u001b[0mroot\u001b[0m \u001b[0;34m=\u001b[0m \u001b[0mTreeNode\u001b[0m\u001b[0;34m(\u001b[0m\u001b[0mroot\u001b[0m\u001b[0;34m)\u001b[0m\u001b[0;34m\u001b[0m\u001b[0;34m\u001b[0m\u001b[0m\n\u001b[0;32m----> 8\u001b[0;31m \u001b[0mroot\u001b[0m\u001b[0;34m.\u001b[0m\u001b[0mget_answer\u001b[0m\u001b[0;34m(\u001b[0m\u001b[0;34m)\u001b[0m\u001b[0;34m\u001b[0m\u001b[0;34m\u001b[0m\u001b[0m\n\u001b[0m",
      "\u001b[0;32m<ipython-input-14-1b44de931877>\u001b[0m in \u001b[0;36mget_answer\u001b[0;34m(self)\u001b[0m\n\u001b[1;32m     42\u001b[0m     \u001b[0;32mdef\u001b[0m \u001b[0mget_answer\u001b[0m\u001b[0;34m(\u001b[0m\u001b[0mself\u001b[0m\u001b[0;34m)\u001b[0m \u001b[0;34m:\u001b[0m\u001b[0;34m\u001b[0m\u001b[0;34m\u001b[0m\u001b[0m\n\u001b[1;32m     43\u001b[0m         \u001b[0manswer\u001b[0m \u001b[0;34m=\u001b[0m \u001b[0;34m[\u001b[0m\u001b[0;34m]\u001b[0m\u001b[0;34m\u001b[0m\u001b[0;34m\u001b[0m\u001b[0m\n\u001b[0;32m---> 44\u001b[0;31m         \u001b[0mself\u001b[0m\u001b[0;34m.\u001b[0m\u001b[0mpreOrderTraversal\u001b[0m\u001b[0;34m(\u001b[0m\u001b[0mself\u001b[0m\u001b[0;34m,\u001b[0m \u001b[0manswer\u001b[0m\u001b[0;34m)\u001b[0m\u001b[0;34m\u001b[0m\u001b[0;34m\u001b[0m\u001b[0m\n\u001b[0m\u001b[1;32m     45\u001b[0m \u001b[0;34m\u001b[0m\u001b[0m\n\u001b[1;32m     46\u001b[0m         \u001b[0;32mreturn\u001b[0m \u001b[0manswer\u001b[0m\u001b[0;34m\u001b[0m\u001b[0;34m\u001b[0m\u001b[0m\n",
      "\u001b[0;31mTypeError\u001b[0m: preOrderTraversal() takes 2 positional arguments but 3 were given"
     ]
    }
   ],
   "source": [
    "\n",
    "\n",
    "# Initiate the TreeNode class\n",
    "\n",
    "\n",
    "\n",
    "# Run the traverse algo \n",
    "\n",
    "root = TreeNode(root)\n",
    "root.get_answer()"
   ]
  },
  {
   "cell_type": "code",
   "execution_count": null,
   "metadata": {},
   "outputs": [],
   "source": []
  },
  {
   "cell_type": "code",
   "execution_count": null,
   "metadata": {},
   "outputs": [],
   "source": [
    "    def search(self, data): \n",
    "        '''\n",
    "        Recursive search and insert for a binary search tree\n",
    "        \n",
    "        '''\n",
    "        \n",
    "        # Check if this value is equal \n",
    "        if data==self.data:\n",
    "            return self\n",
    "\n",
    "        # Check if this value is smaller, if so left. \n",
    "        elif data<self.data:\n",
    "\n",
    "            if self.left!=None:\n",
    "                return self.left.search(data)\n",
    "            else: \n",
    "                return None\n",
    "\n",
    "        # Check if this value is larger, if so right \n",
    "        elif data>self.data: \n",
    "\n",
    "            if self.right!=None: \n",
    "                return right.search(data)\n",
    "\n",
    "            else:\n",
    "                return None \n"
   ]
  }
 ],
 "metadata": {
  "interpreter": {
   "hash": "31f2aee4e71d21fbe5cf8b01ff0e069b9275f58929596ceb00d14d90e3e16cd6"
  },
  "kernelspec": {
   "display_name": "Python 3.8.2 64-bit",
   "language": "python",
   "name": "python3"
  },
  "language_info": {
   "codemirror_mode": {
    "name": "ipython",
    "version": 3
   },
   "file_extension": ".py",
   "mimetype": "text/x-python",
   "name": "python",
   "nbconvert_exporter": "python",
   "pygments_lexer": "ipython3",
   "version": "3.8.2"
  },
  "orig_nbformat": 4
 },
 "nbformat": 4,
 "nbformat_minor": 2
}
