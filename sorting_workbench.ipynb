{
 "cells": [
  {
   "cell_type": "markdown",
   "metadata": {},
   "source": [
    "## Algorithms"
   ]
  },
  {
   "cell_type": "markdown",
   "metadata": {},
   "source": [
    "### Sorting algos\n",
    "- https://visualgo.net/en/sorting?slide=1"
   ]
  },
  {
   "cell_type": "code",
   "execution_count": 2,
   "metadata": {},
   "outputs": [],
   "source": [
    "import numpy as np"
   ]
  },
  {
   "cell_type": "code",
   "execution_count": 30,
   "metadata": {},
   "outputs": [],
   "source": [
    "## Bubble sort\n",
    "\n",
    "def bubble_sort(array):\n",
    "      \n",
    "    sorted_index = len(array)\n",
    "    while sorted_index > 0:\n",
    "        for i in range(len(array)-1):\n",
    "        #Compare two numbers \n",
    "            left = i\n",
    "            right = left+1\n",
    "\n",
    "            #If right number is smaller than left number, switch places\n",
    "            if array[left]>array[right]:\n",
    "                new_right = array[left]\n",
    "                array[left] = array[right]\n",
    "                array[right] = new_right\n",
    "\n",
    "        sorted_index -= 1 \n",
    "        print(f'Sorted index {sorted_index}')\n",
    "\n",
    "        #TODO more effient with pointers? \n",
    "\n",
    "    return array"
   ]
  },
  {
   "cell_type": "code",
   "execution_count": 31,
   "metadata": {},
   "outputs": [
    {
     "name": "stdout",
     "output_type": "stream",
     "text": [
      "Sorted index 2\n",
      "Sorted index 1\n",
      "Sorted index 0\n"
     ]
    },
    {
     "data": {
      "text/plain": [
       "[0, 1, 2]"
      ]
     },
     "execution_count": 31,
     "metadata": {},
     "output_type": "execute_result"
    }
   ],
   "source": [
    "#Test bubble sort \n",
    "array_test = [2,1,0]\n",
    "\n",
    "sorted_array_test = bubble_sort(array_test)\n",
    "sorted_array_test"
   ]
  },
  {
   "cell_type": "code",
   "execution_count": 38,
   "metadata": {},
   "outputs": [
    {
     "name": "stdout",
     "output_type": "stream",
     "text": [
      "[7 8 1 4 6 0 9 5 2 3]\n",
      "Sorted index 9\n",
      "Sorted index 8\n",
      "Sorted index 7\n",
      "Sorted index 6\n",
      "Sorted index 5\n",
      "Sorted index 4\n",
      "Sorted index 3\n",
      "Sorted index 2\n",
      "Sorted index 1\n",
      "Sorted index 0\n"
     ]
    },
    {
     "data": {
      "text/plain": [
       "array([0, 1, 2, 3, 4, 5, 6, 7, 8, 9])"
      ]
     },
     "execution_count": 38,
     "metadata": {},
     "output_type": "execute_result"
    }
   ],
   "source": [
    "from numpy.random import default_rng\n",
    "\n",
    "rng = default_rng()\n",
    "array = rng.choice(10, size=10, replace=False)\n",
    "print(array)\n",
    "sorted_array = bubble_sort(array)\n",
    "sorted_array"
   ]
  },
  {
   "cell_type": "code",
   "execution_count": 24,
   "metadata": {},
   "outputs": [],
   "source": [
    "def selection_sort(array): \n",
    "\n",
    "    #linear search\n",
    "    sorted_idx = 0\n",
    "    print(len(array))\n",
    "\n",
    "    #for each element in nonsorted, check if it is smaller than minimum. if it is set as miniumum\n",
    "    while sorted_idx < len(array):\n",
    "        print(f'Sorted idx {sorted_idx}')\n",
    "\n",
    "        min = array[sorted_idx]\n",
    "        min_idx = sorted_idx\n",
    "\n",
    "        for i in range(sorted_idx+1, len(array)):\n",
    "\n",
    "            if array[i]< min: \n",
    "                min = array[i]\n",
    "                min_idx = i \n",
    "\n",
    "            #print(min)\n",
    "\n",
    "        #Swap min with leftmost \n",
    "        swap = array[sorted_idx]\n",
    "        #insert min\n",
    "        array[sorted_idx] = array[min_idx]\n",
    "\n",
    "        #insert swap \n",
    "        array[min_idx] = swap\n",
    "        sorted_idx +=1\n",
    "        \n",
    "    return array "
   ]
  },
  {
   "cell_type": "code",
   "execution_count": 25,
   "metadata": {},
   "outputs": [
    {
     "name": "stdout",
     "output_type": "stream",
     "text": [
      "[0 3 7 1 6 2 8 5 9 4]\n",
      "10\n",
      "Sorted idx 0\n",
      "Sorted idx 1\n",
      "Sorted idx 2\n",
      "Sorted idx 3\n",
      "Sorted idx 4\n",
      "Sorted idx 5\n",
      "Sorted idx 6\n",
      "Sorted idx 7\n",
      "Sorted idx 8\n",
      "Sorted idx 9\n"
     ]
    },
    {
     "data": {
      "text/plain": [
       "array([0, 1, 2, 3, 4, 5, 6, 7, 8, 9])"
      ]
     },
     "execution_count": 25,
     "metadata": {},
     "output_type": "execute_result"
    }
   ],
   "source": [
    "from numpy.random import default_rng\n",
    "\n",
    "rng = default_rng()\n",
    "array = rng.choice(10, size=10, replace=False)\n",
    "print(array)\n",
    "\n",
    "sorted_array = selection_sort(array)\n",
    "sorted_array\n"
   ]
  },
  {
   "cell_type": "code",
   "execution_count": 41,
   "metadata": {},
   "outputs": [
    {
     "name": "stdout",
     "output_type": "stream",
     "text": [
      "3\n",
      "1\n",
      "2\n"
     ]
    }
   ],
   "source": [
    "test_array = np.array([3,1,2])\n",
    "\n",
    "for element in test_array:\n",
    "    print(element)"
   ]
  },
  {
   "cell_type": "code",
   "execution_count": 38,
   "metadata": {},
   "outputs": [],
   "source": [
    "def insertion_sort_attempt(array):\n",
    "\n",
    "    #set the leftmost number to sorted \n",
    "    sorted_idx = 0 \n",
    "\n",
    "    #We are going to go through the whole array with our operation\n",
    "    while sorted_idx<(len(array)-1):\n",
    "        \n",
    "        #check if the next number is less than the sorted number, if it is swap the two numbers\n",
    "        if array[sorted_idx]>array[sorted_idx+1]:\n",
    "            swap = array[sorted_idx]\n",
    "            array[sorted_idx] = array[sorted_idx+1]\n",
    "            array[sorted_idx +1] = swap\n",
    "\n",
    "            #Then check if the now left number is smaller than the number to its left\n",
    "            swapped_idx = sorted_idx\n",
    "\n",
    "            while swapped_idx>0 and array[swapped_idx]<array[swapped_idx-1]: #TODO: different moving backwards implementation\n",
    "                #Put the leftmost number in the placeholder\n",
    "                swap = array[swapped_idx-1]\n",
    "                #insert the right number into the left index\n",
    "                array[swapped_idx-1] = array[swapped_idx]\n",
    "                #insert the swap number into the rightmost array\n",
    "                array[swapped_idx]=swap\n",
    "\n",
    "                #Iterate the swapped index by -1 to check for the next number\n",
    "                swapped_idx -=1\n",
    "\n",
    "                print(f'swapped_idx {swapped_idx}')\n",
    "                print(f'Array in moving sorted number backwards {array}')\n",
    "\n",
    "        #If the right number is larger than the left, just iterate the sorted idx\n",
    "        else:\n",
    "            pass\n",
    "\n",
    "        ##   Code does the same thing twice, comparing an element to element in idx-1. \n",
    "        # The while loop achieves the same, the if stateement not necessary\n",
    "        # Instead of holding one number as key throughout, we end up doing twice as many swapping operations \n",
    "        # by continuously swapping while searching backwards in the array for the position\n",
    "\n",
    "        print(f'array {array}')\n",
    "        \n",
    "        #Consider all numbers left of the current index fully sorted, and iterate the sorted_idx with 1\n",
    "        sorted_idx +=1 \n",
    "\n",
    "        print(f'Sorted index {sorted_idx}')\n",
    "    #Set new sorted\n",
    "\n",
    "    return array"
   ]
  },
  {
   "cell_type": "code",
   "execution_count": 46,
   "metadata": {},
   "outputs": [],
   "source": [
    "def insertion_sort(array):\n",
    "\n",
    "    #in round i look at the i-th element \n",
    "    #Start with i = 1\n",
    "\n",
    "    #insert this in its right place among the i-1 elements\n",
    "    #FIXME adds n to running time\n",
    "    for i in range(1, len(array)):\n",
    "    \n",
    "        #do this by storing x[i] in a variable key and \n",
    "        key = array[i]\n",
    "        j = i\n",
    "        #While key is larger than\n",
    "        # moving x[i-1], x[i-2] and so on one “to the right” until an element x[j-1] is encountered with x[j-1] < key (or we reach the start of the array)\n",
    "        #FIXME adds n per n loop\n",
    "        while j>0 and key<array[j-1]:   \n",
    "\n",
    "            #move the number in array[j-1] to position j \n",
    "            array[j] = array[j-1]\n",
    "\n",
    "            j -=1\n",
    "            print(f'j: {j}, interim array: {array}')\n",
    "    \n",
    "        #I then insert key at position j (or the start) \n",
    "        array[j] = key\n",
    "\n",
    "    return array"
   ]
  },
  {
   "cell_type": "markdown",
   "metadata": {},
   "source": [
    "- Is there a performance difference between insertion sort attempt and insertion sort from the slides? \n"
   ]
  },
  {
   "cell_type": "code",
   "execution_count": 47,
   "metadata": {},
   "outputs": [
    {
     "name": "stdout",
     "output_type": "stream",
     "text": [
      "j: 0, interim array: [3 3 1]\n",
      "j: 1, interim array: [2 3 3]\n",
      "j: 0, interim array: [2 2 3]\n"
     ]
    },
    {
     "data": {
      "text/plain": [
       "array([1, 2, 3])"
      ]
     },
     "execution_count": 47,
     "metadata": {},
     "output_type": "execute_result"
    }
   ],
   "source": [
    "import numpy as np \n",
    "test_array= np.array([3,2,1])\n",
    "\n",
    "insertion_sort(test_array)"
   ]
  },
  {
   "cell_type": "code",
   "execution_count": 40,
   "metadata": {},
   "outputs": [
    {
     "name": "stdout",
     "output_type": "stream",
     "text": [
      "[2 9 3 0 7 1 4 5 6 8]\n",
      "array [2 9 3 0 7 1 4 5 6 8]\n",
      "Sorted index 1\n",
      "array [2 3 9 0 7 1 4 5 6 8]\n",
      "Sorted index 2\n",
      "swapped_idx 1\n",
      "Array in moving sorted number backwards [2 0 3 9 7 1 4 5 6 8]\n",
      "swapped_idx 0\n",
      "Array in moving sorted number backwards [0 2 3 9 7 1 4 5 6 8]\n",
      "array [0 2 3 9 7 1 4 5 6 8]\n",
      "Sorted index 3\n",
      "array [0 2 3 7 9 1 4 5 6 8]\n",
      "Sorted index 4\n",
      "swapped_idx 3\n",
      "Array in moving sorted number backwards [0 2 3 1 7 9 4 5 6 8]\n",
      "swapped_idx 2\n",
      "Array in moving sorted number backwards [0 2 1 3 7 9 4 5 6 8]\n",
      "swapped_idx 1\n",
      "Array in moving sorted number backwards [0 1 2 3 7 9 4 5 6 8]\n",
      "array [0 1 2 3 7 9 4 5 6 8]\n",
      "Sorted index 5\n",
      "swapped_idx 4\n",
      "Array in moving sorted number backwards [0 1 2 3 4 7 9 5 6 8]\n",
      "array [0 1 2 3 4 7 9 5 6 8]\n",
      "Sorted index 6\n",
      "swapped_idx 5\n",
      "Array in moving sorted number backwards [0 1 2 3 4 5 7 9 6 8]\n",
      "array [0 1 2 3 4 5 7 9 6 8]\n",
      "Sorted index 7\n",
      "swapped_idx 6\n",
      "Array in moving sorted number backwards [0 1 2 3 4 5 6 7 9 8]\n",
      "array [0 1 2 3 4 5 6 7 9 8]\n",
      "Sorted index 8\n",
      "array [0 1 2 3 4 5 6 7 8 9]\n",
      "Sorted index 9\n"
     ]
    },
    {
     "data": {
      "text/plain": [
       "array([0, 1, 2, 3, 4, 5, 6, 7, 8, 9])"
      ]
     },
     "execution_count": 40,
     "metadata": {},
     "output_type": "execute_result"
    }
   ],
   "source": [
    "from numpy.random import default_rng\n",
    "\n",
    "rng = default_rng()\n",
    "array = rng.choice(10, size=10, replace=False)\n",
    "print(array)\n",
    "\n",
    "sorted_array = insertion_sort(array)\n",
    "sorted_array"
   ]
  },
  {
   "cell_type": "code",
   "execution_count": 83,
   "metadata": {},
   "outputs": [],
   "source": [
    "## Merge sort\n",
    "#https://www.geeksforgeeks.org/merge-sort/\n",
    "\n",
    "import numpy as np\n",
    "\n",
    "def merge(a,b):\n",
    "    \n",
    "    n = (len(a)+len(b))\n",
    "    c = np.empty([n])\n",
    "    print(f'n :{n} len c {len(c)}')\n",
    "    #a\n",
    "    i = 0\n",
    "    #b\n",
    "    j = 0\n",
    "    k = 0\n",
    "\n",
    "    while i<len(a) and j<len(b):\n",
    "        #Insert the smallest of numbers at the i/j th position into the output array\n",
    "        if a[i]<b[j]:\n",
    "            c[k]= int(a[i])\n",
    "            i+=1 \n",
    "            print(f'iterating i {i}')\n",
    "        else:\n",
    "            c[k] = int(b[j])\n",
    "            j+=1\n",
    "            print(f'iterating j {j}')\n",
    "\n",
    "        k+=1 \n",
    "\n",
    "    #When at the end of array, copy remaining from other into c \n",
    "    if (i+1)>len(a):\n",
    "        print(f'Came to end of a at i {i}, n {n}')\n",
    "        c[k:]=b[j:]\n",
    "\n",
    "    elif (j+1)>len(b):\n",
    "        print(f'Came to end of b at j {j}, n {n}')\n",
    "        c[k:] = a[i:]\n",
    "    \n",
    "    else:\n",
    "        pass \n",
    "\n",
    "    print(f' c: {c} ')\n",
    "\n",
    "    return c\n",
    "\n",
    "def merge_sort(array):\n",
    "    \n",
    "    print(f\"Got array {array}\")\n",
    "    #Base case \n",
    "    if len(array)<=1: \n",
    "        return array\n",
    "    \n",
    "    # Split array \n",
    "    n = len(array)\n",
    "    half_n = int(n/2)\n",
    "    print(f'n: {n}, half_n {half_n}')\n",
    "\n",
    "    #One recursive call on each half\n",
    "    first_half = array[:half_n]\n",
    "    second_half = array[half_n:]\n",
    "\n",
    "    print(f'first_half : {first_half} \\n second_half: {second_half}')\n",
    "\n",
    "    #First recursive call\n",
    "    a = merge_sort(first_half)\n",
    "\n",
    "    print(f'a: {a}')\n",
    "\n",
    "    #Second recursive call \n",
    "    b = merge_sort(second_half)\n",
    "\n",
    "    print(f'b: {b}')\n",
    "\n",
    "    # Sort each half recursively \n",
    "    \n",
    "    # Merge subarrays a and b\n",
    "    c = merge(a, b)\n",
    "\n",
    "    return c\n"
   ]
  },
  {
   "cell_type": "code",
   "execution_count": 87,
   "metadata": {},
   "outputs": [
    {
     "name": "stdout",
     "output_type": "stream",
     "text": [
      "[3 0 7 6 4 1 9 8 5 2]\n",
      "Got array [3 0 7 6 4 1 9 8 5 2]\n",
      "n: 10, half_n 5\n",
      "first_half : [3 0 7 6 4] \n",
      " second_half: [1 9 8 5 2]\n",
      "Got array [3 0 7 6 4]\n",
      "n: 5, half_n 2\n",
      "first_half : [3 0] \n",
      " second_half: [7 6 4]\n",
      "Got array [3 0]\n",
      "n: 2, half_n 1\n",
      "first_half : [3] \n",
      " second_half: [0]\n",
      "Got array [3]\n",
      "a: [3]\n",
      "Got array [0]\n",
      "b: [0]\n",
      "n :2 len c 2\n",
      "iterating j 1\n",
      "Came to end of b at j 1, n 2\n",
      " c: [0. 3.] \n",
      "a: [0. 3.]\n",
      "Got array [7 6 4]\n",
      "n: 3, half_n 1\n",
      "first_half : [7] \n",
      " second_half: [6 4]\n",
      "Got array [7]\n",
      "a: [7]\n",
      "Got array [6 4]\n",
      "n: 2, half_n 1\n",
      "first_half : [6] \n",
      " second_half: [4]\n",
      "Got array [6]\n",
      "a: [6]\n",
      "Got array [4]\n",
      "b: [4]\n",
      "n :2 len c 2\n",
      "iterating j 1\n",
      "Came to end of b at j 1, n 2\n",
      " c: [4. 6.] \n",
      "b: [4. 6.]\n",
      "n :3 len c 3\n",
      "iterating j 1\n",
      "iterating j 2\n",
      "Came to end of b at j 2, n 3\n",
      " c: [4. 6. 7.] \n",
      "b: [4. 6. 7.]\n",
      "n :5 len c 5\n",
      "iterating i 1\n",
      "iterating i 2\n",
      "Came to end of a at i 2, n 5\n",
      " c: [0. 3. 4. 6. 7.] \n",
      "a: [0. 3. 4. 6. 7.]\n",
      "Got array [1 9 8 5 2]\n",
      "n: 5, half_n 2\n",
      "first_half : [1 9] \n",
      " second_half: [8 5 2]\n",
      "Got array [1 9]\n",
      "n: 2, half_n 1\n",
      "first_half : [1] \n",
      " second_half: [9]\n",
      "Got array [1]\n",
      "a: [1]\n",
      "Got array [9]\n",
      "b: [9]\n",
      "n :2 len c 2\n",
      "iterating i 1\n",
      "Came to end of a at i 1, n 2\n",
      " c: [1. 9.] \n",
      "a: [1. 9.]\n",
      "Got array [8 5 2]\n",
      "n: 3, half_n 1\n",
      "first_half : [8] \n",
      " second_half: [5 2]\n",
      "Got array [8]\n",
      "a: [8]\n",
      "Got array [5 2]\n",
      "n: 2, half_n 1\n",
      "first_half : [5] \n",
      " second_half: [2]\n",
      "Got array [5]\n",
      "a: [5]\n",
      "Got array [2]\n",
      "b: [2]\n",
      "n :2 len c 2\n",
      "iterating j 1\n",
      "Came to end of b at j 1, n 2\n",
      " c: [2. 5.] \n",
      "b: [2. 5.]\n",
      "n :3 len c 3\n",
      "iterating j 1\n",
      "iterating j 2\n",
      "Came to end of b at j 2, n 3\n",
      " c: [2. 5. 8.] \n",
      "b: [2. 5. 8.]\n",
      "n :5 len c 5\n",
      "iterating i 1\n",
      "iterating j 1\n",
      "iterating j 2\n",
      "iterating j 3\n",
      "Came to end of b at j 3, n 5\n",
      " c: [1. 2. 5. 8. 9.] \n",
      "b: [1. 2. 5. 8. 9.]\n",
      "n :10 len c 10\n",
      "iterating i 1\n",
      "iterating j 1\n",
      "iterating j 2\n",
      "iterating i 2\n",
      "iterating i 3\n",
      "iterating j 3\n",
      "iterating i 4\n",
      "iterating i 5\n",
      "Came to end of a at i 5, n 10\n",
      " c: [0. 1. 2. 3. 4. 5. 6. 7. 8. 9.] \n"
     ]
    },
    {
     "data": {
      "text/plain": [
       "array([0., 1., 2., 3., 4., 5., 6., 7., 8., 9.])"
      ]
     },
     "execution_count": 87,
     "metadata": {},
     "output_type": "execute_result"
    }
   ],
   "source": [
    "from numpy.random import default_rng\n",
    "\n",
    "rng = default_rng()\n",
    "array = rng.choice(10, size=10, replace=False)\n",
    "print(array)\n",
    "\n",
    "\n",
    "sorted_array = merge_sort(array)\n",
    "sorted_array"
   ]
  },
  {
   "cell_type": "code",
   "execution_count": 76,
   "metadata": {},
   "outputs": [
    {
     "data": {
      "text/plain": [
       "array([9.9e-324, 4.9e-324, 2.5e-323, 3.5e-323, 0.0e+000, 4.4e-323,\n",
       "       1.5e-323, 3.0e-323, 2.0e-323, 4.0e-323])"
      ]
     },
     "execution_count": 76,
     "metadata": {},
     "output_type": "execute_result"
    }
   ],
   "source": [
    "np.empty([10])"
   ]
  },
  {
   "cell_type": "markdown",
   "metadata": {},
   "source": []
  },
  {
   "cell_type": "markdown",
   "metadata": {},
   "source": []
  }
 ],
 "metadata": {
  "interpreter": {
   "hash": "9e2215cab45153562bd2db8a99cec94dac42e4c407933b70a6c4bbf0abdc6f91"
  },
  "kernelspec": {
   "display_name": "Python 3.8.5 ('base')",
   "language": "python",
   "name": "python3"
  },
  "language_info": {
   "codemirror_mode": {
    "name": "ipython",
    "version": 3
   },
   "file_extension": ".py",
   "mimetype": "text/x-python",
   "name": "python",
   "nbconvert_exporter": "python",
   "pygments_lexer": "ipython3",
   "version": "3.8.5"
  },
  "orig_nbformat": 4
 },
 "nbformat": 4,
 "nbformat_minor": 2
}
