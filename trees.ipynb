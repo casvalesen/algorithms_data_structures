{
 "cells": [
  {
   "cell_type": "markdown",
   "metadata": {},
   "source": [
    "## Neetcode Blind 75 tree"
   ]
  },
  {
   "cell_type": "code",
   "execution_count": 5,
   "metadata": {},
   "outputs": [],
   "source": [
    "class TreeNode(object):\n",
    "\n",
    "    def __init__(self, val , left= None, right=None): \n",
    "        self.val = val\n",
    "        self.left = left\n",
    "        self.right= right\n",
    "        print(f'initialised, self.val: {self.val} , self.left {self.left} , self.right {self.right}')\n",
    "         \n",
    "    def __str__(self):\n",
    "        return str(self.val)\n",
    "\n",
    "    def __repr__(self):\n",
    "        return f\"Treenode data {self.val}\"\n",
    "\n",
    "    def preOrderTraversal(self, root,answer):\n",
    "        '''\n",
    "        args: \n",
    "            root, an instance of TreeNode\n",
    "\n",
    "        returns: \n",
    "           answer, list of of values of traversed tree\n",
    "\n",
    "        '''\n",
    "        answer = []\n",
    "        #Base case of recursive algo \n",
    "        if root: \n",
    "            \n",
    "            #Set state to first in root, visit the root. \n",
    "            answer.append(self.val)\n",
    "\n",
    "            #Then traverse the left subtree. Recursively\n",
    "            print(f\"traversing righ, with self.val: {self.val}\")\n",
    "            self.preOrderTraversal(self.right, answer)\n",
    "            \n",
    "            #Finally, traverse the right subtree. Recursively\n",
    "            print(f\"traversing left, with self.val: {self.val}\")\n",
    "            self.preOrderTraversal(self.left, answer)\n",
    "\n",
    "\n",
    "            print(answer)\n",
    "\n",
    "    def get_answer(self) :\n",
    "        answer = []\n",
    "        self.preOrderTraversal(self, answer)\n",
    "\n",
    "        return answer\n",
    "\n",
    "    def printTree(self):\n",
    "        print(self.val)\n",
    "\n",
    "    def insert(self, root, value):\n",
    "\n",
    "        #Base case\n",
    "        if value ==None:\n",
    "            print('Value is none, skipping')\n",
    "\n",
    "        #If the binary tree is empty, make a new node and declare it as root \n",
    "        elif root ==None: \n",
    "            print( f'root is empty,making a new node and declaring as root')\n",
    "            root = TreeNode(value)\n",
    "\n",
    "        #If a binary tree is not empty, we will insert into the tree\n",
    "\n",
    "        #If a value is less than the balue of the data in root, we \n",
    "        elif value < root.val:\n",
    "            print(f'value {value} less than self.val {root.val}, adding to left')\n",
    "            root.left = self.insert(root.left, value)\n",
    "\n",
    "        #If a new value is greater  than the value of the data in root, we add it to the right subtree\n",
    "        elif value > root.val:\n",
    "            print(f'value {value} more than self.val {root.val}, adding to right')\n",
    "            root.right = self.insert(root.right, value)\n",
    "            print(f'self.right {self.right}')\n",
    "        \n",
    "        print(f'Root is {root} at the end of insert method execution with root.left {root.left} and root.right {root.right}')\n",
    "        \n",
    "        return root \n",
    "\n",
    "def tree_from_list(list):\n",
    "    \n",
    "    root = TreeNode(list[0])\n",
    "\n",
    "    for value in list[1:]: \n",
    "        print(f'adding element {value} to tree, root is now {root}')\n",
    "        root.insert(root,value)\n",
    "        print(f'Root is {root} after insert')\n",
    "\n",
    "    return root\n"
   ]
  },
  {
   "cell_type": "markdown",
   "metadata": {},
   "source": [
    "### 226. Invert binary tree\n",
    "\n",
    "Given the root of a binary tree, invert the tree, and return its root.\n",
    "\n",
    "https://leetcode.com/problems/invert-binary-tree/"
   ]
  },
  {
   "cell_type": "code",
   "execution_count": 6,
   "metadata": {},
   "outputs": [
    {
     "name": "stdout",
     "output_type": "stream",
     "text": [
      "initialised, self.val: 4 , self.left None , self.right None\n",
      "adding element 2 to tree, root is now 4\n",
      "value 2 less than self.val 4, adding to left\n",
      "root is empty,making a new node and declaring as root\n",
      "initialised, self.val: 2 , self.left None , self.right None\n",
      "Root is 2 at the end of insert method execution with root.left None and root.right None\n",
      "Root is 4 at the end of insert method execution with root.left 2 and root.right None\n",
      "Root is 4 after insert\n",
      "adding element 7 to tree, root is now 4\n",
      "value 7 more than self.val 4, adding to right\n",
      "root is empty,making a new node and declaring as root\n",
      "initialised, self.val: 7 , self.left None , self.right None\n",
      "Root is 7 at the end of insert method execution with root.left None and root.right None\n",
      "self.right 7\n",
      "Root is 4 at the end of insert method execution with root.left 2 and root.right 7\n",
      "Root is 4 after insert\n",
      "adding element 1 to tree, root is now 4\n",
      "value 1 less than self.val 4, adding to left\n",
      "value 1 less than self.val 2, adding to left\n",
      "root is empty,making a new node and declaring as root\n",
      "initialised, self.val: 1 , self.left None , self.right None\n",
      "Root is 1 at the end of insert method execution with root.left None and root.right None\n",
      "Root is 2 at the end of insert method execution with root.left 1 and root.right None\n",
      "Root is 4 at the end of insert method execution with root.left 2 and root.right 7\n",
      "Root is 4 after insert\n",
      "adding element 3 to tree, root is now 4\n",
      "value 3 less than self.val 4, adding to left\n",
      "value 3 more than self.val 2, adding to right\n",
      "root is empty,making a new node and declaring as root\n",
      "initialised, self.val: 3 , self.left None , self.right None\n",
      "Root is 3 at the end of insert method execution with root.left None and root.right None\n",
      "self.right 7\n",
      "Root is 2 at the end of insert method execution with root.left 1 and root.right 3\n",
      "Root is 4 at the end of insert method execution with root.left 2 and root.right 7\n",
      "Root is 4 after insert\n",
      "adding element 6 to tree, root is now 4\n",
      "value 6 more than self.val 4, adding to right\n",
      "value 6 less than self.val 7, adding to left\n",
      "root is empty,making a new node and declaring as root\n",
      "initialised, self.val: 6 , self.left None , self.right None\n",
      "Root is 6 at the end of insert method execution with root.left None and root.right None\n",
      "Root is 7 at the end of insert method execution with root.left 6 and root.right None\n",
      "self.right 7\n",
      "Root is 4 at the end of insert method execution with root.left 2 and root.right 7\n",
      "Root is 4 after insert\n",
      "adding element 9 to tree, root is now 4\n",
      "value 9 more than self.val 4, adding to right\n",
      "value 9 more than self.val 7, adding to right\n",
      "root is empty,making a new node and declaring as root\n",
      "initialised, self.val: 9 , self.left None , self.right None\n",
      "Root is 9 at the end of insert method execution with root.left None and root.right None\n",
      "self.right 7\n",
      "Root is 7 at the end of insert method execution with root.left 6 and root.right 9\n",
      "self.right 7\n",
      "Root is 4 at the end of insert method execution with root.left 2 and root.right 7\n",
      "Root is 4 after insert\n"
     ]
    },
    {
     "data": {
      "text/plain": [
       "Treenode data 4"
      ]
     },
     "execution_count": 6,
     "metadata": {},
     "output_type": "execute_result"
    }
   ],
   "source": [
    "root = [4,2,7,1,3,6,9]\n",
    "\n",
    "tree =tree_from_list(root)\n",
    "tree"
   ]
  },
  {
   "cell_type": "code",
   "execution_count": 8,
   "metadata": {},
   "outputs": [
    {
     "data": {
      "text/plain": [
       "4"
      ]
     },
     "execution_count": 8,
     "metadata": {},
     "output_type": "execute_result"
    }
   ],
   "source": [
    "tree.val"
   ]
  },
  {
   "cell_type": "code",
   "execution_count": 11,
   "metadata": {},
   "outputs": [],
   "source": [
    "# Definition for a binary tree node.\n",
    "# class TreeNode:\n",
    "#     def __init__(self, val=0, left=None, right=None):\n",
    "#         self.val = val\n",
    "#         self.left = left\n",
    "#         self.right = right\n",
    "class Solution:\n",
    "    def invertTree(self, root):\n",
    "\n",
    "        #Base case\n",
    "        if root==None:\n",
    "            return root\n",
    "        \n",
    "        #Recursively invert left and right trees \n",
    "        inverted_left = Solution().invertTree(root.left)\n",
    "        inverted_right = Solution().invertTree(root.right)\n",
    "\n",
    "        # Switch left and right nodes\n",
    "        root.left = inverted_right\n",
    "        root.right = inverted_left\n",
    "\n",
    "        return root\n"
   ]
  },
  {
   "cell_type": "code",
   "execution_count": 12,
   "metadata": {},
   "outputs": [
    {
     "data": {
      "text/plain": [
       "Treenode data 4"
      ]
     },
     "execution_count": 12,
     "metadata": {},
     "output_type": "execute_result"
    }
   ],
   "source": [
    "inverted_tree = Solution().invertTree(tree)\n",
    "inverted_tree"
   ]
  }
 ],
 "metadata": {
  "kernelspec": {
   "display_name": "Python 3.8.2 64-bit",
   "language": "python",
   "name": "python3"
  },
  "language_info": {
   "codemirror_mode": {
    "name": "ipython",
    "version": 3
   },
   "file_extension": ".py",
   "mimetype": "text/x-python",
   "name": "python",
   "nbconvert_exporter": "python",
   "pygments_lexer": "ipython3",
   "version": "3.8.2"
  },
  "orig_nbformat": 4,
  "vscode": {
   "interpreter": {
    "hash": "31f2aee4e71d21fbe5cf8b01ff0e069b9275f58929596ceb00d14d90e3e16cd6"
   }
  }
 },
 "nbformat": 4,
 "nbformat_minor": 2
}
