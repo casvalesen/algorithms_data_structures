{
 "cells": [
  {
   "cell_type": "code",
   "execution_count": null,
   "metadata": {},
   "outputs": [],
   "source": []
  },
  {
   "cell_type": "markdown",
   "metadata": {},
   "source": [
    "## Graph implementations "
   ]
  },
  {
   "cell_type": "markdown",
   "metadata": {},
   "source": [
    "### Matrix representation "
   ]
  },
  {
   "cell_type": "code",
   "execution_count": null,
   "metadata": {},
   "outputs": [],
   "source": [
    "import numpy as np \n",
    "\n",
    "class GraphMatrix: \n",
    "\n",
    "    #Initialise empty matrix representation\n",
    "    def __init__(self, n_verticies, directed = False):\n",
    "        '''\n",
    "        Initialises an empty matrix to represent the graph. \n",
    "        Throughout the implementation, the verticies must be referred to as their order in this 0 indexed V x V matrix. \n",
    "\n",
    "        n_verticies: int, number of verticies in graph\n",
    "        directed: bool, whether the graph is directed, default\n",
    "        '''\n",
    "\n",
    "        self.n_verticies = n_verticies \n",
    "        self.directed = False\n",
    "        self.matrix = np.zeros((n_verticies,n_verticies))\n",
    "\n",
    "    # Add edges\n",
    "    def add_edge(self,origin_vertex, destination_vertex, weight = 1):\n",
    "        '''\n",
    "        Adds an edge to the matrix, adds symmetric edges if the graph is undirected. \n",
    "\n",
    "        origin_vertex: int, origin of edge as array index\n",
    "        destination_vertex: int, destination of edge as array index\n",
    "        weight: weight of the edge \n",
    "        '''\n",
    "\n",
    "        self.matrix[origin_vertex][destination_vertex]\n",
    "\n",
    "        if self.directed==False: \n",
    "            self.matrix[destination_vertex][origin_vertex]\n",
    "        \n",
    "        return None"
   ]
  },
  {
   "cell_type": "code",
   "execution_count": 13,
   "metadata": {},
   "outputs": [
    {
     "data": {
      "text/plain": [
       "array([[0., 0., 0., 1.],\n",
       "       [0., 0., 0., 0.],\n",
       "       [0., 0., 0., 0.],\n",
       "       [0., 0., 0., 0.]])"
      ]
     },
     "execution_count": 13,
     "metadata": {},
     "output_type": "execute_result"
    }
   ],
   "source": [
    "import numpy as np \n",
    "matrix = np.zeros((4,4))\n",
    "matrix[0][3] = 1\n",
    "matrix\n"
   ]
  },
  {
   "cell_type": "markdown",
   "metadata": {},
   "source": [
    "#### 200. Number of Islands \n",
    "\n",
    "\n",
    "Given an m x n 2D binary grid grid which represents a map of '1's (land) and '0's (water), return the number of islands.\n",
    "\n",
    "An island is surrounded by water and is formed by connecting adjacent lands horizontally or vertically. You may assume all four edges of the grid are all surrounded by water.\n",
    "\n",
    "https://leetcode.com/problems/number-of-islands/"
   ]
  },
  {
   "cell_type": "code",
   "execution_count": 33,
   "metadata": {},
   "outputs": [],
   "source": [
    "grid = [\n",
    "  [\"1\",\"1\",\"1\",\"1\",\"0\"],\n",
    "  [\"1\",\"1\",\"0\",\"1\",\"0\"],\n",
    "  [\"1\",\"1\",\"0\",\"0\",\"0\"],\n",
    "  [\"0\",\"0\",\"0\",\"0\",\"0\"]\n",
    "]\n",
    "# output: 1\n"
   ]
  },
  {
   "cell_type": "code",
   "execution_count": 58,
   "metadata": {},
   "outputs": [],
   "source": [
    "grid = [\n",
    "  [\"1\",\"1\",\"0\",\"0\",\"0\"],\n",
    "  [\"1\",\"1\",\"0\",\"0\",\"0\"],\n",
    "  [\"0\",\"0\",\"1\",\"0\",\"0\"],\n",
    "  [\"0\",\"0\",\"0\",\"1\",\"1\"]\n",
    "]\n",
    "# output:3"
   ]
  },
  {
   "cell_type": "code",
   "execution_count": 60,
   "metadata": {},
   "outputs": [],
   "source": [
    "grid = [[\"1\",\"1\",\"1\"],\n",
    "        [\"0\",\"1\",\"0\"],\n",
    "        [\"1\",\"1\",\"1\"]]\n",
    "\n",
    "# output: 1"
   ]
  },
  {
   "cell_type": "code",
   "execution_count": 62,
   "metadata": {},
   "outputs": [],
   "source": [
    "# \n",
    "# Brute force solution, searching all. Goes through full grid once, 4 checks per grid. O(n). \n",
    "def gridsearch_numIslands(grid):\n",
    "\n",
    "    nr_islands = 0\n",
    "\n",
    "    islands = set() # Do I need this? Might not need it, if counting is correct\n",
    "    #\n",
    "    for i in range(len(grid)):\n",
    "\n",
    "        for j in range(len(grid[0])):\n",
    "            #print(i,j)\n",
    "\n",
    "            # if water, go to next\n",
    "            if grid[i][j] =='1':\n",
    "\n",
    "                #Check if neighbour is part of and islands\n",
    "                if any([(i-1,j) in islands, (i+1,j) in islands, (i, j+1) in islands, (i, j-1) in islands]) ==True:\n",
    "                    \n",
    "                    islands.add((i,j))\n",
    "\n",
    "                #if none of neighbours are in existing/ known islands, then it is a new island\n",
    "                else: \n",
    "                    print( (i , j-1) , islands)\n",
    "                    print((i, j-1) in islands, )\n",
    "                    islands.add((i,j))\n",
    "                    nr_islands +=1\n",
    "                    print(i,j, 'adding island')\n",
    "\n",
    "    print(islands)\n",
    "    return nr_islands\n"
   ]
  },
  {
   "cell_type": "code",
   "execution_count": 63,
   "metadata": {},
   "outputs": [
    {
     "name": "stdout",
     "output_type": "stream",
     "text": [
      "(0, -1) set()\n",
      "False\n",
      "0 0 adding island\n",
      "(2, -1) {(0, 1), (0, 2), (1, 1), (0, 0)}\n",
      "False\n",
      "2 0 adding island\n",
      "{(0, 1), (2, 1), (0, 0), (1, 1), (2, 0), (0, 2), (2, 2)}\n"
     ]
    },
    {
     "data": {
      "text/plain": [
       "2"
      ]
     },
     "execution_count": 63,
     "metadata": {},
     "output_type": "execute_result"
    }
   ],
   "source": [
    "gridsearch_numIslands(grid)"
   ]
  },
  {
   "cell_type": "code",
   "execution_count": 77,
   "metadata": {},
   "outputs": [],
   "source": [
    "import collections\n",
    "\n",
    "## Solution that exploits graph structure? \n",
    "# breadth first search \n",
    "def numIslands(grid):\n",
    "\n",
    "    if not grid or not grid[0]:\n",
    "        return 0\n",
    "\n",
    "    islands = 0 \n",
    "    visit = set() # got this \n",
    "    rows, cols = len(grid), len(grid[0])\n",
    "\n",
    "\n",
    "    #Iterative \n",
    "    def bfs(r,c):        \n",
    "        \n",
    "        q = collections.deque()\n",
    "        visit.add((r,c))\n",
    "        q.append((r,c))\n",
    "\n",
    "        #Use traversal\n",
    "        #While q not empty, we expand our island\n",
    "        while q:\n",
    "            row, col = q.popleft()  # Can be changed to a regular pop for depth first search, iterative\n",
    "            directions = [[1,0],[-1,0],[0,1],[0,-1]]\n",
    "\n",
    "            for dr, dc in directions:\n",
    "                r, c = row + dr, col + dc\n",
    "\n",
    "                #Check if in bound\n",
    "                if ((r in range(rows)) and \n",
    "                (c in range(cols)) and \n",
    "                (grid[r][c] == \"1\") and \n",
    "                ((r,c) not in visit)): \n",
    "                    q.append((r,c))\n",
    "                    visit.add((r,c))\n",
    "\n",
    "\n",
    "    for r in range(rows):\n",
    "        for c in range(cols):\n",
    "            if grid[r][c]==\"1\" and (r,c) not in visit:\n",
    "                bfs(r,c)\n",
    "                islands +=1\n",
    "\n",
    "    return islands"
   ]
  },
  {
   "cell_type": "code",
   "execution_count": 78,
   "metadata": {},
   "outputs": [
    {
     "data": {
      "text/plain": [
       "1"
      ]
     },
     "execution_count": 78,
     "metadata": {},
     "output_type": "execute_result"
    }
   ],
   "source": [
    "numIslands(grid)"
   ]
  },
  {
   "cell_type": "code",
   "execution_count": 66,
   "metadata": {},
   "outputs": [
    {
     "name": "stdout",
     "output_type": "stream",
     "text": [
      "1\n",
      "2\n"
     ]
    }
   ],
   "source": [
    "list = [1,2]\n",
    "\n",
    "for i in range(len(list)):\n",
    "    print(list[i])"
   ]
  },
  {
   "cell_type": "code",
   "execution_count": null,
   "metadata": {},
   "outputs": [],
   "source": [
    "# Drafts\n",
    "            #if any is 1, then there exists at least one island \n",
    "\n",
    "            #check if part of existing island,\n",
    "            \n",
    "            #check grid around current\n",
    "\n",
    "                #if all around are 0, then it is an island itself \n",
    "                    #add an island to the hashmap\n",
    "\n",
    "                #if it is only connected at the site we came from, then part of previous island\n",
    "                    #add to hashmap of current island\n",
    "\n",
    "                #check if sides are part of hashmap\n",
    "\n",
    "\n",
    "            #if water, check if sides are part of hashmap?"
   ]
  },
  {
   "cell_type": "code",
   "execution_count": 13,
   "metadata": {},
   "outputs": [
    {
     "data": {
      "text/plain": [
       "True"
      ]
     },
     "execution_count": 13,
     "metadata": {},
     "output_type": "execute_result"
    }
   ],
   "source": [
    "\n",
    "\n",
    "hashmap = {1:[(0,1),(0,2)]}\n",
    "hashset = {(0,0),(0,1)}\n",
    "\n",
    "any([(0,0) in hashset,(0,2) in hashset])\n"
   ]
  },
  {
   "cell_type": "markdown",
   "metadata": {},
   "source": [
    "### Adjacent list representation"
   ]
  },
  {
   "cell_type": "code",
   "execution_count": null,
   "metadata": {},
   "outputs": [],
   "source": [
    "class GraphList: \n",
    "\n",
    "    def __init__(self, n_edges):\n",
    "\n",
    "        '''\n",
    "\n",
    "        '''\n",
    "\n",
    "        self.node\n",
    "\n",
    "        return None \n",
    "\n",
    "\n",
    "        "
   ]
  },
  {
   "cell_type": "code",
   "execution_count": null,
   "metadata": {},
   "outputs": [],
   "source": [
    "## Define single node in Graph List\n",
    "class Node: \n",
    "\n",
    "    def __init__(self, val, adjacent = None):\n",
    "        '''  \n",
    "        Initialises a single vertex node, with pointers to its adjacent nodes.\n",
    "\n",
    "        params:\n",
    "            val: value of vertex\n",
    "            adjacent: list, of neighbours if adjacent\n",
    "\n",
    "        '''\n",
    "        self.val = val\n",
    "        \n",
    "        if adjacent: \n",
    "            self.adjacent = adjacent\n",
    "        else:\n",
    "            self.adjacent = []\n",
    "    "
   ]
  },
  {
   "cell_type": "markdown",
   "metadata": {},
   "source": [
    "## Breadth first search "
   ]
  },
  {
   "cell_type": "code",
   "execution_count": null,
   "metadata": {},
   "outputs": [],
   "source": []
  },
  {
   "cell_type": "markdown",
   "metadata": {},
   "source": [
    "## Depth first search "
   ]
  },
  {
   "cell_type": "code",
   "execution_count": null,
   "metadata": {},
   "outputs": [],
   "source": []
  },
  {
   "cell_type": "code",
   "execution_count": null,
   "metadata": {},
   "outputs": [],
   "source": [
    "adjList = [[2,4],[1,3],[2,4],[1,3]]"
   ]
  },
  {
   "cell_type": "markdown",
   "metadata": {},
   "source": [
    "#### 133. Clone Graph \n",
    "\n",
    "Given a reference of a node in a connected undirected graph.\n",
    "\n",
    "Return a deep copy (clone) of the graph.\n",
    "\n",
    "Each node in the graph contains a value (int) and a list (List[Node]) of its neighbors.\n",
    "\n",
    "https://leetcode.com/problems/clone-graph/\n",
    "\n",
    "**Test case format:**\n",
    "\n",
    "For simplicity, each node's value is the same as the node's index (1-indexed). For example, the first node with val == 1, the second node with val == 2, and so on. The graph is represented in the test case using an adjacency list.\n",
    "\n",
    "An adjacency list is a collection of unordered lists used to represent a finite graph. Each list describes the set of neighbors of a node in the graph.\n",
    "\n",
    "The given node will always be the first node with val = 1. You must return the copy of the given node as a reference to the cloned graph.\n",
    "\n",
    "\n",
    "- Input: adjList = [[2,4],[1,3],[2,4],[1,3]]\n",
    "- Output: [[2,4],[1,3],[2,4],[1,3]]"
   ]
  },
  {
   "cell_type": "markdown",
   "metadata": {},
   "source": [
    "### First test"
   ]
  },
  {
   "cell_type": "code",
   "execution_count": null,
   "metadata": {},
   "outputs": [],
   "source": [
    "class Solution: \n",
    "\n",
    "    def clone_graph(self, node):\n",
    "\n",
    "        ## Verbose solution, a recursive solution most likely exists\n",
    "\n",
    "        #Keep track of visited \n",
    "        visited =set()\n",
    "        all_visited= False\n",
    "\n",
    "        start_node = node\n",
    "        current_visiting = node \n",
    "        current_prev = None  # should this be a value?\n",
    "\n",
    "        self.current = Node() #Initialising as a node \n",
    "        \n",
    "        # Go through all \n",
    "        while all_visited==False: \n",
    "\n",
    "            #If not visited add\n",
    "            if self.current.val not in visited:\n",
    "                \n",
    "                #Add vertex to visited\n",
    "                visited.add(current_visiting.val)\n",
    "\n",
    "                #Copy of node\n",
    "                self.current.val = current_visiting.val \n",
    "\n",
    "                #Copy refernces \n",
    "                self.current.adjList = current_visiting.neighbors #this is a direct assign, not a copy\n",
    "\n",
    "            #Go to next        \n",
    "            #Then set the new \n",
    "            current_prev = current_visiting\n",
    "            \n",
    "            #Select the first in adjlist that is not in the hashmap\n",
    "            #For the node or current? \n",
    "            #for adj_node in self.current.adjList:\n",
    "            all_neighbours_visited = True\n",
    "\n",
    "            for adj_node in node.neighbors: \n",
    "                if adj_node not in visited: \n",
    "                    #Add to visited \n",
    "                    current_visiting = adj_node\n",
    "                    all_neighbours_visited = False\n",
    "\n",
    "            #if all adjacent to current visited, to go previous\n",
    "            if all_neighbours_visited==True:\n",
    "                current_visiting = current_prev\n",
    "\n",
    "            #This exhaustive search solution will work as long as the graph has connection.\n",
    "\n",
    "            if current_visiting==start_node:\n",
    "                all_visited = True \n",
    "            #if at end of iteration and not broken,all are visited. We Can get stuck in a \n",
    "            # How to guarantee all are visited?  \n",
    "        \n",
    "       return self.current"
   ]
  },
  {
   "cell_type": "markdown",
   "metadata": {},
   "source": [
    "## Solution\n",
    "\n",
    "- Hashmap: \n",
    "    - Map node to its clone \n"
   ]
  },
  {
   "cell_type": "code",
   "execution_count": null,
   "metadata": {},
   "outputs": [],
   "source": [
    "\n",
    "def clone_graph(self, node):\n",
    "\n",
    "    oldToNew = {}\n",
    "\n",
    "    def dfs(node): \n",
    "        if node in oldToNew:\n",
    "            return oldToNew[node]\n",
    "        \n",
    "        copy = Node(node.val)\n",
    "        oldToNew[node]=copy\n",
    "        \n",
    "        for neighbor in node.neighbors:\n",
    "            copy.neighbors.append(dfs(neighbor))\n",
    "\n",
    "        return copy \n",
    "\n",
    "    return dfs(node) if node else None\n",
    "    \n",
    "    #Go to next,\n",
    "\n",
    "    #else add node to the neighbours for the node\n",
    "\n",
    "    # Map to original in hashmap\n",
    "\n",
    "    # add recursion implementation \n"
   ]
  },
  {
   "cell_type": "code",
   "execution_count": 22,
   "metadata": {},
   "outputs": [
    {
     "data": {
      "text/plain": [
       "3"
      ]
     },
     "execution_count": 22,
     "metadata": {},
     "output_type": "execute_result"
    }
   ],
   "source": [
    "import copy \n",
    "\n",
    "a = 3\n",
    "b = copy.copy(a)\n",
    "b"
   ]
  },
  {
   "cell_type": "markdown",
   "metadata": {},
   "source": []
  },
  {
   "cell_type": "markdown",
   "metadata": {},
   "source": [
    "## A* algorithm"
   ]
  },
  {
   "cell_type": "code",
   "execution_count": null,
   "metadata": {},
   "outputs": [],
   "source": []
  },
  {
   "cell_type": "markdown",
   "metadata": {},
   "source": [
    "## Dijkstras alogrithm"
   ]
  },
  {
   "cell_type": "markdown",
   "metadata": {},
   "source": []
  }
 ],
 "metadata": {
  "kernelspec": {
   "display_name": "Python 3.8.2 64-bit",
   "language": "python",
   "name": "python3"
  },
  "language_info": {
   "codemirror_mode": {
    "name": "ipython",
    "version": 3
   },
   "file_extension": ".py",
   "mimetype": "text/x-python",
   "name": "python",
   "nbconvert_exporter": "python",
   "pygments_lexer": "ipython3",
   "version": "3.8.2"
  },
  "orig_nbformat": 4,
  "vscode": {
   "interpreter": {
    "hash": "31f2aee4e71d21fbe5cf8b01ff0e069b9275f58929596ceb00d14d90e3e16cd6"
   }
  }
 },
 "nbformat": 4,
 "nbformat_minor": 2
}
