{
 "cells": [
  {
   "cell_type": "code",
   "execution_count": null,
   "metadata": {},
   "outputs": [],
   "source": []
  },
  {
   "cell_type": "markdown",
   "metadata": {},
   "source": [
    "## Stack\n",
    "- LIFO "
   ]
  },
  {
   "cell_type": "code",
   "execution_count": null,
   "metadata": {},
   "outputs": [],
   "source": [
    "#Define stack \n",
    "class Stack:\n",
    "    '''\n",
    "    LIFO policy\n",
    "    stack implementation as an array\n",
    "    \n",
    "    '''\n",
    "\n",
    "    def __init__(self, n_elements):\n",
    "        '''\n",
    "        Initialises the stack as an empty array\n",
    "        args: \n",
    "            n_elements, int, number of elements\n",
    "        '''\n",
    "        \n",
    "        # Initialise array\n",
    "        # Indexes the most recently inserted element\n",
    "        self.top = 0\n",
    "\n",
    "    def stack_empty(self):\n",
    "        if self.top==0:\n",
    "            return True \n",
    "        else:\n",
    "            return False\n",
    "\n",
    "    def push(self, x): \n",
    "        self.top = self.top + 1\n",
    "        self[self.top]= x  \n",
    "\n",
    "    def pop(self):\n",
    "\n",
    "\n"
   ]
  },
  {
   "cell_type": "code",
   "execution_count": null,
   "metadata": {},
   "outputs": [],
   "source": [
    "# Use stack "
   ]
  },
  {
   "cell_type": "markdown",
   "metadata": {},
   "source": [
    "## Queue\n",
    "- FIFO"
   ]
  }
 ],
 "metadata": {
  "kernelspec": {
   "display_name": "Python 3.8.2 64-bit",
   "language": "python",
   "name": "python3"
  },
  "language_info": {
   "name": "python",
   "version": "3.8.2"
  },
  "orig_nbformat": 4,
  "vscode": {
   "interpreter": {
    "hash": "31f2aee4e71d21fbe5cf8b01ff0e069b9275f58929596ceb00d14d90e3e16cd6"
   }
  }
 },
 "nbformat": 4,
 "nbformat_minor": 2
}
